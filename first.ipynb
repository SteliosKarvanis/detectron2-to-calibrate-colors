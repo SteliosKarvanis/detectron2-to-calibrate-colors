{
 "cells": [
  {
   "cell_type": "code",
   "execution_count": null,
   "metadata": {},
   "outputs": [],
   "source": [
    "from detectron2 import model_zoo\n",
    "from detectron2.data import DatasetCatalog, MetadataCatalog, DatasetMapper, build_detection_test_loader, build_detection_train_loader\n",
    "from detectron2.evaluation import COCOEvaluator, inference_on_dataset\n",
    "from detectron2.engine import DefaultTrainer, DefaultPredictor\n",
    "from detectron2.utils.visualizer import Visualizer, ColorMode\n",
    "from detectron2.data import detection_utils as utils\n",
    "from detectron2.utils.logger import setup_logger\n",
    "from detectron2.structures import BoxMode\n",
    "import detectron2.data.transforms as T\n",
    "from detectron2.config import get_cfg\n",
    "import matplotlib.pyplot as plt\n",
    "import numpy as np\n",
    "import os\n",
    "import json\n",
    "import random\n",
    "import cv2\n",
    "import shutil\n",
    "import copy\n",
    "import torch\n",
    "import glob"
   ]
  },
  {
   "cell_type": "markdown",
   "metadata": {},
   "source": [
    "# Constants"
   ]
  },
  {
   "cell_type": "code",
   "execution_count": null,
   "metadata": {},
   "outputs": [],
   "source": [
    "setup_logger()\n",
    "dataset_dir = \"dataset/\"\n",
    "train_dir = dataset_dir + \"train\"\n",
    "test_dir = dataset_dir + \"test\"\n",
    "classes = [\"red\", \"pink\", \"yellow\", \"blue\", \"orange\", \"green\"]\n",
    "#classes = [\"red\", \"pink\", \"yellow\", \"orange\", \"green\"]\n",
    "camera_rows = 516\n",
    "camera_cols = 656\n",
    "train_ratio = 0.75"
   ]
  },
  {
   "cell_type": "markdown",
   "metadata": {},
   "source": [
    "# Manage New Datasets"
   ]
  },
  {
   "cell_type": "code",
   "execution_count": null,
   "metadata": {},
   "outputs": [],
   "source": [
    "def manage_datasets():\n",
    "    os.makedirs(dataset_dir +'train/', exist_ok=True)\n",
    "    os.makedirs(dataset_dir +'test/', exist_ok=True)\n",
    "    all_fileNames = glob.glob(dataset_dir+\"*.jpg\")\n",
    "    for file in [file.removesuffix('.jpg') for file in all_fileNames]:\n",
    "        index = file.split('_')[1]\n",
    "        new_name = \"new_\" + index\n",
    "        os.rename(file + str(\".jpg\"), dataset_dir + new_name + str(\".jpg\"))\n",
    "        os.rename(file + str(\".json\"), dataset_dir + new_name + str(\".json\"))\n",
    "    np.random.shuffle(all_fileNames)\n",
    "    train_filenames, test_filenames = np.split(np.array(all_fileNames), [int(len(all_fileNames)* train_ratio)])\n",
    "    for filename in [name[:name.find('.')] for name in train_filenames]:\n",
    "        shutil.move(str(filename) + '.json', train_dir)\n",
    "        shutil.move(str(filename) + '.jpg', train_dir)\n",
    "    for filename in [name[:name.find('.')] for name in test_filenames]:\n",
    "        shutil.move(str(filename) + '.json', test_dir)\n",
    "        shutil.move(str(filename) + '.jpg', test_dir)"
   ]
  },
  {
   "cell_type": "code",
   "execution_count": null,
   "metadata": {},
   "outputs": [],
   "source": [
    "#manage_datasets()"
   ]
  },
  {
   "cell_type": "markdown",
   "metadata": {},
   "source": [
    "# Registering Datasets"
   ]
  },
  {
   "cell_type": "code",
   "execution_count": null,
   "metadata": {},
   "outputs": [],
   "source": [
    "def get_data(img_dir):\n",
    "    dataset_dicts = []\n",
    "    for index, filename in enumerate([file for file in os.listdir(img_dir) if file.endswith('.json')]):\n",
    "        json_file = os.path.join(img_dir, filename)\n",
    "        with open(json_file) as f:\n",
    "            img_label = json.load(f)\n",
    "\n",
    "        record = {}\n",
    "\n",
    "        img = os.path.join(img_dir, filename.removesuffix('.json') + str('.jpg'))\n",
    "        \n",
    "        record[\"file_name\"] = img\n",
    "        record[\"height\"] = camera_rows\n",
    "        record[\"width\"] = camera_cols\n",
    "        record[\"image_id\"] = index\n",
    "        shapes = img_label[\"shapes\"]\n",
    "        objs = []\n",
    "        for shape in shapes:\n",
    "            px = [a[0] for a in shape['points']]\n",
    "            py = [a[1] for a in shape['points']]\n",
    "            poly = [(x, y) for x, y in zip(px, py)]\n",
    "            poly = [p for x in poly for p in x]\n",
    "\n",
    "            obj = {\n",
    "                \"bbox\": [np.min(px), np.min(py), np.max(px), np.max(py)],\n",
    "                \"bbox_mode\": BoxMode.XYXY_ABS,\n",
    "                \"segmentation\": [poly],\n",
    "                \"category_id\": classes.index(shape['label']),\n",
    "                \"iscrowd\": 0\n",
    "            }\n",
    "            objs.append(obj)\n",
    "        record[\"annotations\"] = objs\n",
    "        dataset_dicts.append(record)\n",
    "    return dataset_dicts"
   ]
  },
  {
   "cell_type": "code",
   "execution_count": null,
   "metadata": {},
   "outputs": [],
   "source": [
    "for d in [\"train\", \"test\"]:\n",
    "    DatasetCatalog.register(d, lambda d=d: get_data(dataset_dir + d))\n",
    "    MetadataCatalog.get(d).set(thing_classes=classes)"
   ]
  },
  {
   "cell_type": "markdown",
   "metadata": {},
   "source": [
    "# Visualize Labels"
   ]
  },
  {
   "cell_type": "code",
   "execution_count": null,
   "metadata": {},
   "outputs": [],
   "source": [
    "plt.figure(figsize=(40,40))\n",
    "dataset_dicts = get_data(train_dir)\n",
    "train_metadata = MetadataCatalog.get(\"train\")\n",
    "test_metadata = MetadataCatalog.get(\"test\")\n",
    "for row, d in enumerate(random.sample(dataset_dicts, 1)):\n",
    "    img = cv2.imread(d[\"file_name\"])\n",
    "    visualizer = Visualizer(img[:, :, ::-1], metadata=train_metadata, scale=1)\n",
    "    out = visualizer.draw_dataset_dict(d)\n",
    "    plt.subplot(4, 2, 2*row+1)\n",
    "    plt.imshow(out.get_image()[..., ::-1][..., ::-1])\n",
    "    plt.subplot(4, 2, 2*row+2)\n",
    "    plt.imshow(cv2.cvtColor(img.copy(), cv2.COLOR_BGR2RGB))"
   ]
  },
  {
   "cell_type": "markdown",
   "metadata": {},
   "source": [
    "# Set Configs"
   ]
  },
  {
   "cell_type": "code",
   "execution_count": null,
   "metadata": {},
   "outputs": [],
   "source": [
    "cfg = get_cfg()\n",
    "cfg.merge_from_file(model_zoo.get_config_file(\"COCO-InstanceSegmentation/mask_rcnn_R_50_FPN_3x.yaml\"))\n",
    "cfg.MODEL.WEIGHTS = model_zoo.get_checkpoint_url(\"COCO-InstanceSegmentation/mask_rcnn_R_50_FPN_3x.yaml\")\n",
    "cfg.MODEL.DEVICE = \"cuda\"\n",
    "cfg.DATASETS.TRAIN = (\"train\",)\n",
    "cfg.DATASETS.TEST = (\"test\", )\n",
    "cfg.DATALOADER.NUM_WORKERS = 2\n",
    "cfg.SOLVER.IMS_PER_BATCH = 4\n",
    "cfg.INPUT.RANDOM_FLIP = \"horizontal\"\n",
    "cfg.SOLVER.BASE_LR = 0.0025\n",
    "cfg.SOLVER.MAX_ITER = 300\n",
    "cfg.MODEL.ROI_HEADS.SCORE_THRESH_TEST = 0.5\n",
    "cfg.SOLVER.STEPS = []   \n",
    "cfg.MODEL.ROI_HEADS.BATCH_SIZE_PER_IMAGE = 512 \n",
    "cfg.MODEL.ROI_HEADS.NUM_CLASSES = len(classes) \n"
   ]
  },
  {
   "cell_type": "markdown",
   "metadata": {},
   "source": [
    "# Augmentate Data"
   ]
  },
  {
   "cell_type": "code",
   "execution_count": null,
   "metadata": {},
   "outputs": [],
   "source": [
    "def mapper(dataset_dict):\n",
    "    dataset_dict = copy.deepcopy(dataset_dict)\n",
    "    image = utils.read_image(dataset_dict[\"file_name\"], format=\"RGB\")\n",
    "    transform_list = [T.Resize((800,800)),\n",
    "                      T.RandomFlip(prob=0.5, horizontal=False, vertical=True),\n",
    "                      T.RandomFlip(prob=0.5, horizontal=True, vertical=False), \n",
    "                    #T.RandomContrast(0.8, 1.3),\n",
    "                    #T.RandomSaturation(0.8, 1.3),\n",
    "                    T.RandomRotation(angle=[90, 90]),\n",
    "                          T.RandomBrightness(0.1, 2),\n",
    "                            T.RandomCrop(\"absolute\", (640, 640))\n",
    "                      ]\n",
    "    image, transforms = T.apply_transform_gens(transform_list, image)\n",
    "    dataset_dict[\"image\"] = torch.as_tensor(image.transpose(2, 0, 1).astype(\"float32\"))\n",
    "\n",
    "    annos = [\n",
    "        utils.transform_instance_annotations(obj, transforms, image.shape[:2])\n",
    "        for obj in dataset_dict.pop(\"annotations\")\n",
    "        if obj.get(\"iscrowd\", 0) == 0\n",
    "    ]\n",
    "    instances = utils.annotations_to_instances(annos, image.shape[:2])\n",
    "    dataset_dict[\"instances\"] = utils.filter_empty_instances(instances)\n",
    "    return dataset_dict"
   ]
  },
  {
   "cell_type": "markdown",
   "metadata": {},
   "source": [
    "# Train Model"
   ]
  },
  {
   "cell_type": "code",
   "execution_count": null,
   "metadata": {},
   "outputs": [],
   "source": [
    "class CustomTrainer(DefaultTrainer):\n",
    "    @classmethod\n",
    "    def build_train_loader(cls, cfg):\n",
    "        return build_detection_train_loader(cfg, mapper=mapper)\n"
   ]
  },
  {
   "cell_type": "code",
   "execution_count": null,
   "metadata": {},
   "outputs": [],
   "source": [
    "os.makedirs(cfg.OUTPUT_DIR, exist_ok=True)\n",
    "trainer = DefaultTrainer(cfg)\n",
    "trainer.resume_or_load(resume=False)"
   ]
  },
  {
   "cell_type": "code",
   "execution_count": null,
   "metadata": {},
   "outputs": [],
   "source": [
    "trainer.train()"
   ]
  },
  {
   "cell_type": "markdown",
   "metadata": {},
   "source": [
    "# Visualize Augmentation"
   ]
  },
  {
   "cell_type": "code",
   "execution_count": null,
   "metadata": {},
   "outputs": [],
   "source": [
    "train_data_loader = trainer.build_train_loader(cfg)\n",
    "data_iter = iter(train_data_loader)\n",
    "batch = next(data_iter)"
   ]
  },
  {
   "cell_type": "code",
   "execution_count": null,
   "metadata": {},
   "outputs": [],
   "source": [
    "rows, cols = 3, 3\n",
    "plt.figure(figsize=(20,20))\n",
    "\n",
    "for i, per_image in enumerate(batch[:int(rows*cols)]):\n",
    "    plt.subplot(rows, cols, i+1)\n",
    "    img = per_image[\"image\"].permute(1, 2, 0).cpu().detach().numpy()\n",
    "\n",
    "    visualizer = Visualizer(img, metadata=train_metadata, scale=0.5)\n",
    "\n",
    "    target_fields = per_image[\"instances\"].get_fields()\n",
    "    labels = None\n",
    "    vis = visualizer.overlay_instances(\n",
    "        labels=labels,\n",
    "        boxes=target_fields.get(\"gt_boxes\", None),\n",
    "        masks=target_fields.get(\"gt_masks\", None),\n",
    "        keypoints=target_fields.get(\"gt_keypoints\", None),\n",
    "    )\n",
    "    plt.imshow(vis.get_image()[:, :, ::-1])"
   ]
  },
  {
   "cell_type": "markdown",
   "metadata": {},
   "source": [
    "# Test Model"
   ]
  },
  {
   "cell_type": "code",
   "execution_count": null,
   "metadata": {},
   "outputs": [],
   "source": [
    "cfg.MODEL.WEIGHTS = os.path.join(cfg.OUTPUT_DIR, \"model_final.pth\") \n",
    "cfg.MODEL.ROI_HEADS.SCORE_THRESH_TEST = 0.5\n",
    "predictor = DefaultPredictor(cfg)"
   ]
  },
  {
   "cell_type": "code",
   "execution_count": null,
   "metadata": {},
   "outputs": [],
   "source": [
    "for index, filename in enumerate([file for file in os.listdir(test_dir) if not (file.endswith('.json') or file.startswith('output'))]):\n",
    "    im = cv2.imread(test_dir +\"/\"+ filename)\n",
    "    outputs = predictor(im) \n",
    "    v = Visualizer(im[:, :, ::-1], metadata=test_metadata) \n",
    "    out = v.draw_instance_predictions(outputs[\"instances\"].to(\"cpu\"))\n",
    "    cv2.imwrite(test_dir + \"/output_\" + filename, out.get_image()[..., ::-1])"
   ]
  },
  {
   "cell_type": "markdown",
   "metadata": {},
   "source": [
    "# Evaluate Model"
   ]
  },
  {
   "cell_type": "code",
   "execution_count": null,
   "metadata": {},
   "outputs": [],
   "source": [
    "evaluator = COCOEvaluator(\"test\", cfg, False, \"./output/\")\n",
    "val_loader = build_detection_test_loader(cfg, \"test\")\n",
    "print(inference_on_dataset(predictor.model, val_loader, evaluator))"
   ]
  },
  {
   "cell_type": "code",
   "execution_count": null,
   "metadata": {},
   "outputs": [],
   "source": [
    "# Look at training curves in tensorboard:\n",
    "%load_ext tensorboard\n",
    "%tensorboard --logdir output"
   ]
  },
  {
   "cell_type": "code",
   "execution_count": 16,
   "metadata": {},
   "outputs": [
    {
     "data": {
      "text/plain": [
       "{'status': 'ok', 'restart': True}"
      ]
     },
     "execution_count": 16,
     "metadata": {},
     "output_type": "execute_result"
    }
   ],
   "source": [
    "import IPython\n",
    "app = IPython.Application.instance()\n",
    "app.kernel.do_shutdown(True)"
   ]
  },
  {
   "cell_type": "code",
   "execution_count": null,
   "metadata": {},
   "outputs": [],
   "source": []
  }
 ],
 "metadata": {
  "kernelspec": {
   "display_name": "Python 3.9.7 ('ct213')",
   "language": "python",
   "name": "python3"
  },
  "language_info": {
   "codemirror_mode": {
    "name": "ipython",
    "version": 3
   },
   "file_extension": ".py",
   "mimetype": "text/x-python",
   "name": "python",
   "nbconvert_exporter": "python",
   "pygments_lexer": "ipython3",
   "version": "3.9.7"
  },
  "orig_nbformat": 4,
  "vscode": {
   "interpreter": {
    "hash": "598095a934dcb3bb155002048116345118bc48a932469ffb0579a7d18e5f6768"
   }
  }
 },
 "nbformat": 4,
 "nbformat_minor": 2
}
